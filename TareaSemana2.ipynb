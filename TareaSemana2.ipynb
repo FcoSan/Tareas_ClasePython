{
  "nbformat": 4,
  "nbformat_minor": 0,
  "metadata": {
    "colab": {
      "name": "TareaSemana2.ipynb",
      "provenance": [],
      "collapsed_sections": [],
      "authorship_tag": "ABX9TyMIKE6pcYraIqMyPfc7lQqu",
      "include_colab_link": true
    },
    "kernelspec": {
      "name": "python3",
      "display_name": "Python 3"
    },
    "language_info": {
      "name": "python"
    }
  },
  "cells": [
    {
      "cell_type": "markdown",
      "metadata": {
        "id": "view-in-github",
        "colab_type": "text"
      },
      "source": [
        "<a href=\"https://colab.research.google.com/github/FcoSan/Tareas_ClasePython-Francisco-Sanchez/blob/main/TareaSemana2.ipynb\" target=\"_parent\"><img src=\"https://colab.research.google.com/assets/colab-badge.svg\" alt=\"Open In Colab\"/></a>"
      ]
    },
    {
      "cell_type": "markdown",
      "source": [
        "**Ejercicio 1**\n",
        "\n",
        "Piensa en al menos tres tipos de tu pizza favorita. Almacene estos nombres de pizza en una lista y luego use un ciclo for para imprimir el nombre de cada pizza.\n",
        "\n",
        "Modifique su ciclo for para imprimir una oración usando el nombre de la pizza en lugar de imprimir solo el nombre de la pizza. Para cada pizza, debe tener una línea de salida que contenga una declaración simple como Me gusta la pizza de pepperoni. Agregue una línea al final de su programa, fuera del bucle for, que indique cuánto le gusta la pizza. El resultado debe constar de tres o más líneas sobre los tipos de pizza que te gustan y luego una oración adicional, como ¡Me encanta la pizza!"
      ],
      "metadata": {
        "id": "3ojix4J0SBd6"
      }
    },
    {
      "cell_type": "code",
      "execution_count": null,
      "metadata": {
        "colab": {
          "base_uri": "https://localhost:8080/"
        },
        "id": "uQQ_t79dL9DI",
        "outputId": "3d9aba97-972b-4bd6-8653-538301908a44"
      },
      "outputs": [
        {
          "output_type": "stream",
          "name": "stdout",
          "text": [
            "Me gusta la pizza Peperoni!\n",
            "Me gusta la pizza Napolitana!\n",
            "Me gusta la pizza Hawaina!\n",
            "Me encanta la pizza!\n"
          ]
        }
      ],
      "source": [
        "pizzas = ['peperoni', 'napolitana', 'hawaina']\n",
        "\n",
        "for pizza in pizzas:\n",
        "    print(f\"Me gusta la pizza {pizza.title()}!\")\n",
        "\n",
        "print(\"Me encanta la pizza!\")"
      ]
    },
    {
      "cell_type": "markdown",
      "source": [
        "**Ejercicio 2**\n",
        "\n",
        "Piensa en al menos tres animales diferentes que tengan una característica común. Guarde los nombres de estos animales en una lista y luego use un ciclo for para imprimir el nombre de cada animal.\n",
        "\n",
        "Modifique su programa para imprimir una declaración sobre cada animal, como Un perro sería una gran mascota. Agregue una línea al final de su programa indicando lo que estos animales tienen en común. Podría escribir una oración como ¡Cualquiera de estos animales sería una gran mascota!"
      ],
      "metadata": {
        "id": "C0L-KCBxSJlg"
      }
    },
    {
      "cell_type": "code",
      "source": [
        "animales = ['perro', 'ardilla', 'conejo']\n",
        "\n",
        "for animal in animales:\n",
        "    print(f\"{animal.title()} es una gran mascota!\")\n",
        "\n",
        "print(\"Cualquiera de estos animales sería una gran mascota!\")"
      ],
      "metadata": {
        "colab": {
          "base_uri": "https://localhost:8080/"
        },
        "id": "0LLNn25EMVa_",
        "outputId": "48b3a835-b07c-4241-f019-bfd490a6374f"
      },
      "execution_count": null,
      "outputs": [
        {
          "output_type": "stream",
          "name": "stdout",
          "text": [
            "Perro es una gran mascota!\n",
            "Ardilla es una gran mascota!\n",
            "Conejo es una gran mascota!\n",
            "Cualquiera de estos animales sería una gran mascota!\n"
          ]
        }
      ]
    },
    {
      "cell_type": "markdown",
      "source": [
        "**Ejercicio 1**\n",
        "\n",
        "Escriba un ciclo que solicite al usuario que ingrese una serie de ingredientes para la pizza hasta que ingrese un valor de 'salir'. A medida que ingresen cada ingrediente, imprima un mensaje que diga que agregará ese ingrediente a su pizza."
      ],
      "metadata": {
        "id": "sdOusPkASPaI"
      }
    },
    {
      "cell_type": "code",
      "source": [
        "prompt = \"\\nIngrese un ingrediente para su pizza:\"\n",
        "prompt += \"\\nEscribe 'salir' para finalizar. \"\n",
        "\n",
        "message = \"\"\n",
        "while message != 'salir':\n",
        "  message = input(str(prompt))\n",
        "  print(f\"Se agregara {message} a su pizza\")"
      ],
      "metadata": {
        "id": "3gE-JXfOSULh"
      },
      "execution_count": null,
      "outputs": []
    },
    {
      "cell_type": "markdown",
      "source": [
        "**Ejercicio 2**\n",
        "\n",
        "Un cine cobra diferentes precios de boletos dependiendo de la edad de una persona. Si una persona es menor de 3 años, la entrada es gratuita; si son entre 3 y 12, el boleto cuesta s/. 10; y si son mayores de 12 años, el boleto cuesta s/. 15. Escriba un ciclo en el que pregunte a los usuarios su edad y luego dígales el costo de su boleto de cine."
      ],
      "metadata": {
        "id": "sYmL4L_ZSXFY"
      }
    },
    {
      "cell_type": "code",
      "source": [
        "Edad = int(input(\"Ingrese su edad: \"))\n",
        "\n",
        "if Edad < 3:\n",
        "  print(\"Su entrada es gratuita.\")\n",
        "elif Edad >= 3 and Edad <=12:\n",
        "  print(\"Su entrada cuesta S/10.\")\n",
        "elif Edad > 12:\n",
        "  print(\"Su boleto cuesta S/ 15.\")\n",
        "else:\n",
        "  print(\"Edad errónea.\")"
      ],
      "metadata": {
        "id": "ser1weaTSamn"
      },
      "execution_count": null,
      "outputs": []
    }
  ]
}