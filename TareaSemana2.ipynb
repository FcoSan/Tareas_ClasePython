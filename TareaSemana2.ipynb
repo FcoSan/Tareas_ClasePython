{
  "nbformat": 4,
  "nbformat_minor": 0,
  "metadata": {
    "colab": {
      "name": "TareaSemana2.ipynb",
      "provenance": [],
      "collapsed_sections": [],
      "authorship_tag": "ABX9TyPEAKozWi7IlLqXArtwuSwO",
      "include_colab_link": true
    },
    "kernelspec": {
      "name": "python3",
      "display_name": "Python 3"
    },
    "language_info": {
      "name": "python"
    }
  },
  "cells": [
    {
      "cell_type": "markdown",
      "metadata": {
        "id": "view-in-github",
        "colab_type": "text"
      },
      "source": [
        "<a href=\"https://colab.research.google.com/github/FcoSan/Tareas_ClasePython-Francisco-Sanchez/blob/main/TareaSemana2.ipynb\" target=\"_parent\"><img src=\"https://colab.research.google.com/assets/colab-badge.svg\" alt=\"Open In Colab\"/></a>"
      ]
    },
    {
      "cell_type": "code",
      "execution_count": null,
      "metadata": {
        "colab": {
          "base_uri": "https://localhost:8080/"
        },
        "id": "uQQ_t79dL9DI",
        "outputId": "3d9aba97-972b-4bd6-8653-538301908a44"
      },
      "outputs": [
        {
          "output_type": "stream",
          "name": "stdout",
          "text": [
            "Me gusta la pizza Peperoni!\n",
            "Me gusta la pizza Napolitana!\n",
            "Me gusta la pizza Hawaina!\n",
            "Me encanta la pizza!\n"
          ]
        }
      ],
      "source": [
        "pizzas = ['peperoni', 'napolitana', 'hawaina']\n",
        "\n",
        "for pizza in pizzas:\n",
        "    print(f\"Me gusta la pizza {pizza.title()}!\")\n",
        "\n",
        "print(\"Me encanta la pizza!\")"
      ]
    },
    {
      "cell_type": "code",
      "source": [
        "animales = ['perro', 'ardilla', 'conejo']\n",
        "\n",
        "for animal in animales:\n",
        "    print(f\"{animal.title()} es una gran mascota!\")\n",
        "\n",
        "print(\"Cualquiera de estos animales sería una gran mascota!\")"
      ],
      "metadata": {
        "colab": {
          "base_uri": "https://localhost:8080/"
        },
        "id": "0LLNn25EMVa_",
        "outputId": "48b3a835-b07c-4241-f019-bfd490a6374f"
      },
      "execution_count": null,
      "outputs": [
        {
          "output_type": "stream",
          "name": "stdout",
          "text": [
            "Perro es una gran mascota!\n",
            "Ardilla es una gran mascota!\n",
            "Conejo es una gran mascota!\n",
            "Cualquiera de estos animales sería una gran mascota!\n"
          ]
        }
      ]
    }
  ]
}